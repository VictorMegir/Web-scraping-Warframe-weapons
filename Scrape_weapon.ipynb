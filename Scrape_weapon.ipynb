{
 "cells": [
  {
   "cell_type": "code",
   "execution_count": 1,
   "id": "positive-rotation",
   "metadata": {},
   "outputs": [],
   "source": [
    "import requests\n",
    "from bs4 import BeautifulSoup\n",
    "from bs4.element import Tag\n",
    "import re\n",
    "from typing import Union"
   ]
  },
  {
   "cell_type": "code",
   "execution_count": 2,
   "id": "human-opinion",
   "metadata": {},
   "outputs": [],
   "source": [
    "def remove_br_elements(element: Tag) -> BeautifulSoup:\n",
    "    string_element = str(element)\n",
    "    if '<br/>' not in string_element: return element\n",
    "    string_element = string_element.replace('<br/>', ',')\n",
    "    return BeautifulSoup(string_element, 'html.parser')"
   ]
  },
  {
   "cell_type": "code",
   "execution_count": 3,
   "id": "ancient-orientation",
   "metadata": {},
   "outputs": [],
   "source": [
    "def process_value(value: str) -> str:\n",
    "    result = value.strip('\\n \\t  ●○')\n",
    "    result = result.replace('(', '')\n",
    "    result = result.replace(')', '')\n",
    "    result = result.replace(' mag', ' Magazine')\n",
    "    result = result.replace(' multiplier', ' Multiplier ').strip(' ')\n",
    "    result = result.replace(' m', ' meters ')\n",
    "    result = re.sub(r'   \\S+%', '', result)\n",
    "    return result"
   ]
  },
  {
   "cell_type": "code",
   "execution_count": 4,
   "id": "unlimited-literacy",
   "metadata": {},
   "outputs": [],
   "source": [
    "def scrape_page(url: str) -> dict[str, Union[str, dict[str, str]]]:\n",
    "    response = requests.get(url)\n",
    "    soup = BeautifulSoup(response.content, 'html.parser')\n",
    "    del response\n",
    "    result = {}\n",
    "        \n",
    "    statistics = soup.find_all('div', class_='pi-data-value pi-font')[1:5]\n",
    "    result['Statistics'] = {\n",
    "        'Mastery': statistics[0].text,\n",
    "        'Slot': statistics[1].text,\n",
    "        'Type': statistics[2].text,\n",
    "        'Trigger Type': statistics[3].text\n",
    "    }\n",
    "    del statistics\n",
    "    \n",
    "    all_sections = soup.find_all('section', class_='pi-item pi-group pi-border-color pi-collapse pi-collapse-open')\n",
    "    for section in all_sections:\n",
    "        values = []\n",
    "        keys = []\n",
    "\n",
    "        for elem in section.find_all('div'):\n",
    "            try: keys.append(elem.find('h3').text)\n",
    "            except AttributeError: continue\n",
    "\n",
    "            try:\n",
    "                # Polarities Case\n",
    "                if elem.img and (elem.a['title'] == 'Polarity' or elem.a['title'] == 'Exilus Weapon Adapter'):\n",
    "                    polarities = elem.find_all('img')\n",
    "                    value = ''\n",
    "                    for p in polarities: value += p['alt'].split(' ')[0] + ' '\n",
    "                # Normal Case\n",
    "                else:\n",
    "                    value = process_value(remove_br_elements(elem.find('div')).text)\n",
    "                values.append(value)\n",
    "            except AttributeError: continue\n",
    "\n",
    "            result[section.h2.text] = {keys[i]: values[i] for i in range(len(keys))}\n",
    "    del all_sections\n",
    "    \n",
    "    return {soup.find('h2', class_='pi-item pi-item-spacing pi-title').span.text : result}"
   ]
  },
  {
   "cell_type": "code",
   "execution_count": 5,
   "id": "standing-skirt",
   "metadata": {},
   "outputs": [],
   "source": [
    "f = open('urls.txt', 'r')"
   ]
  },
  {
   "cell_type": "code",
   "execution_count": 6,
   "id": "parental-amount",
   "metadata": {},
   "outputs": [
    {
     "name": "stdout",
     "output_type": "stream",
     "text": [
      "0\n",
      "50\n",
      "100\n",
      "150\n",
      "200\n",
      "250\n",
      "300\n",
      "350\n",
      "400\n",
      "450\n",
      "500\n",
      "550\n",
      "600\n"
     ]
    }
   ],
   "source": [
    "data = {}\n",
    "for index, line in enumerate(f.readlines()):\n",
    "    data = data | scrape_page(line.strip('\\n'))\n",
    "    if index % 50 == 0: print(index)"
   ]
  },
  {
   "cell_type": "code",
   "execution_count": 7,
   "id": "automotive-russian",
   "metadata": {},
   "outputs": [],
   "source": [
    "f.close()"
   ]
  },
  {
   "cell_type": "code",
   "execution_count": 8,
   "id": "dried-poverty",
   "metadata": {},
   "outputs": [],
   "source": [
    "import json\n",
    "with open('weapons.json', 'w') as fp:\n",
    "    json.dump(data, fp)"
   ]
  }
 ],
 "metadata": {
  "kernelspec": {
   "display_name": "Python 3",
   "language": "python",
   "name": "python3"
  },
  "language_info": {
   "codemirror_mode": {
    "name": "ipython",
    "version": 3
   },
   "file_extension": ".py",
   "mimetype": "text/x-python",
   "name": "python",
   "nbconvert_exporter": "python",
   "pygments_lexer": "ipython3",
   "version": "3.9.1"
  }
 },
 "nbformat": 4,
 "nbformat_minor": 5
}
