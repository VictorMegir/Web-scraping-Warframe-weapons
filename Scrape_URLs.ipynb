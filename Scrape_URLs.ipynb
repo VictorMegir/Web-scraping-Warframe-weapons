{
 "cells": [
  {
   "cell_type": "code",
   "execution_count": 1,
   "id": "regional-mixture",
   "metadata": {},
   "outputs": [],
   "source": [
    "import requests\n",
    "from bs4 import BeautifulSoup"
   ]
  },
  {
   "cell_type": "code",
   "execution_count": 2,
   "id": "joint-killer",
   "metadata": {},
   "outputs": [],
   "source": [
    "starting_url = 'https://warframe.fandom.com/wiki/Weapons'"
   ]
  },
  {
   "cell_type": "code",
   "execution_count": 3,
   "id": "thrown-keyboard",
   "metadata": {},
   "outputs": [],
   "source": [
    "f = open('urls.txt', 'a')\n",
    "response = requests.get(starting_url)\n",
    "soup = BeautifulSoup(response.content, 'html.parser')"
   ]
  },
  {
   "cell_type": "code",
   "execution_count": 4,
   "id": "polished-thunder",
   "metadata": {},
   "outputs": [],
   "source": [
    "all_tables = soup.find_all('div', class_='tabbertab')\n",
    "for table in all_tables:\n",
    "    for a in table.find_all('a'): \n",
    "        if a.img: \n",
    "            f.write('https://warframe.fandom.com/' + a['href'] + '\\n')"
   ]
  },
  {
   "cell_type": "code",
   "execution_count": 5,
   "id": "printable-nursery",
   "metadata": {},
   "outputs": [],
   "source": [
    "f.close()"
   ]
  }
 ],
 "metadata": {
  "kernelspec": {
   "display_name": "Python 3",
   "language": "python",
   "name": "python3"
  },
  "language_info": {
   "codemirror_mode": {
    "name": "ipython",
    "version": 3
   },
   "file_extension": ".py",
   "mimetype": "text/x-python",
   "name": "python",
   "nbconvert_exporter": "python",
   "pygments_lexer": "ipython3",
   "version": "3.9.1"
  }
 },
 "nbformat": 4,
 "nbformat_minor": 5
}
